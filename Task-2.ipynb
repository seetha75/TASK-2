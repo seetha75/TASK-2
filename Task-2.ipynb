{
  "nbformat": 4,
  "nbformat_minor": 0,
  "metadata": {
    "colab": {
      "provenance": [],
      "authorship_tag": "ABX9TyN99WmfwDWmT0WvKrCEIrJF",
      "include_colab_link": true
    },
    "kernelspec": {
      "name": "python3",
      "display_name": "Python 3"
    },
    "language_info": {
      "name": "python"
    }
  },
  "cells": [
    {
      "cell_type": "markdown",
      "metadata": {
        "id": "view-in-github",
        "colab_type": "text"
      },
      "source": [
        "<a href=\"https://colab.research.google.com/github/seetha75/TASK-2/blob/main/Task-2.ipynb\" target=\"_parent\"><img src=\"https://colab.research.google.com/assets/colab-badge.svg\" alt=\"Open In Colab\"/></a>"
      ]
    },
    {
      "cell_type": "code",
      "execution_count": 14,
      "metadata": {
        "colab": {
          "base_uri": "https://localhost:8080/"
        },
        "id": "RnSdQEMWlaPM",
        "outputId": "b2a8842d-9e61-4f8e-fb52-7625b8c1b887"
      },
      "outputs": [
        {
          "output_type": "stream",
          "name": "stdout",
          "text": [
            "Name: John, Age: 25, City: New York\n"
          ]
        }
      ],
      "source": [
        "# Example of hardcoding variables\n",
        "name = \"John\"\n",
        "age = 25\n",
        "city = \"New York\"\n",
        "\n",
        "print(f\"Name: {name}, Age: {age}, City: {city}\")\n"
      ]
    },
    {
      "cell_type": "code",
      "source": [
        "# Accept input from the user\n",
        "name = input(\"Enter your name: \")\n",
        "age = input(\"Enter your age: \")\n",
        "city = input(\"Enter your city: \")\n",
        "\n",
        "print(f\"Name: {name}, Age: {age}, City: {city}\")\n"
      ],
      "metadata": {
        "colab": {
          "base_uri": "https://localhost:8080/"
        },
        "id": "INbxPAUkt5Ag",
        "outputId": "c8af04fe-27b6-4c79-be86-937761bc65a2"
      },
      "execution_count": 15,
      "outputs": [
        {
          "output_type": "stream",
          "name": "stdout",
          "text": [
            "Enter your name: satya\n",
            "Enter your age: 20\n",
            "Enter your city: Hyd\n",
            "Name: satya, Age: 20, City: Hyd\n"
          ]
        }
      ]
    },
    {
      "cell_type": "code",
      "source": [
        "# Read a single input from a file\n",
        "with open('single_input.txt', 'w') as file:\n",
        "    file.write(\"John\\n\")\n",
        "try:\n",
        "    with open('single_input.txt', 'r') as file:\n",
        "        name = file.readline().strip()\n",
        "    print(f\"Read from file: {name}\")\n",
        "except FileNotFoundError:\n",
        "    print(\"File not found. Please make sure the file exists.\")\n"
      ],
      "metadata": {
        "colab": {
          "base_uri": "https://localhost:8080/"
        },
        "id": "_N7l-4Fgt70Q",
        "outputId": "8139925d-3a9b-421f-8d04-e4ea694d5316"
      },
      "execution_count": 19,
      "outputs": [
        {
          "output_type": "stream",
          "name": "stdout",
          "text": [
            "Read from file: John\n"
          ]
        }
      ]
    },
    {
      "cell_type": "code",
      "source": [
        "# Read multiple inputs from a file\n",
        "with open('multiple_inputs.txt', 'w') as file:\n",
        "    file.write(\"John\\n\")\n",
        "    file.write(\"25\\n\")\n",
        "    file.write(\"New York\\n\")\n",
        "try:\n",
        "    with open('multiple_inputs.txt', 'r') as file:\n",
        "        name = file.readline().strip()\n",
        "        age = file.readline().strip()\n",
        "        city = file.readline().strip()\n",
        "\n",
        "    print(f\"Read from file: Name: {name}, Age: {age}, City: {city}\")\n",
        "except FileNotFoundError:\n",
        "    print(\"File not found. Please make sure the file exists.\")\n",
        "except ValueError:\n",
        "    print(\"Error: Incorrect number of lines in the input file.\")\n"
      ],
      "metadata": {
        "colab": {
          "base_uri": "https://localhost:8080/"
        },
        "id": "Hj5T2SDjuHoQ",
        "outputId": "cec8b743-def3-46b4-938f-2252fcd0bdf0"
      },
      "execution_count": 20,
      "outputs": [
        {
          "output_type": "stream",
          "name": "stdout",
          "text": [
            "Read from file: Name: John, Age: 25, City: New York\n"
          ]
        }
      ]
    },
    {
      "cell_type": "code",
      "source": [
        "!git remote add origin https://github.com/seetha75/Task-2.git\n",
        "!git branch -M main\n",
        "!git push -u origin main"
      ],
      "metadata": {
        "colab": {
          "base_uri": "https://localhost:8080/"
        },
        "id": "N0suUAj6xHQC",
        "outputId": "cf0e3423-8024-4163-ef4d-6d6ea9300fd6"
      },
      "execution_count": 24,
      "outputs": [
        {
          "output_type": "stream",
          "name": "stdout",
          "text": [
            "fatal: not a git repository (or any of the parent directories): .git\n",
            "fatal: not a git repository (or any of the parent directories): .git\n",
            "fatal: not a git repository (or any of the parent directories): .git\n"
          ]
        }
      ]
    }
  ]
}